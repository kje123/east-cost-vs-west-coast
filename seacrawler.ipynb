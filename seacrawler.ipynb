{
  "cells": [
    {
      "cell_type": "code",
      "execution_count": 6,
      "metadata": {
        "id": "EtnaSlH-wplB"
      },
      "outputs": [],
      "source": [
        "# created on Dec 24, 2020\n",
        "# modified on April 12, 2022\n",
        "# @author:          Bo Zhao\n",
        "# @email:           zhaobo@uw.edu\n",
        "# @website:         https://hgis.uw.edu\n",
        "# @organization:    Department of Geography, University of Washington, Seattle\n",
        "# @description:     Search geo-tagged tweets within the U.S. This script is modified from https://github.com/shawn-terryah/Twitter_Geolocation"
      ]
    },
    {
      "cell_type": "code",
      "execution_count": 1,
      "metadata": {
        "colab": {
          "base_uri": "https://localhost:8080/"
        },
        "id": "f-bMdKMawxnQ",
        "outputId": "ea906b27-f147-402a-d885-da7842139ddf"
      },
      "outputs": [
        {
          "name": "stdout",
          "output_type": "stream",
          "text": [
            "Mounted at /gdrive\n"
          ]
        }
      ],
      "source": [
        "import tweepy, json, time\n",
        "import pandas as pd\n",
        "from google.colab import files\n",
        "# Create data on to Google Drive\n",
        "from google.colab import drive\n",
        "# Mount your Drive to the Colab VM.\n",
        "drive.mount('/gdrive')"
      ]
    },
    {
      "cell_type": "code",
      "execution_count": 2,
      "metadata": {
        "id": "dEyPts-ZwplE"
      },
      "outputs": [],
      "source": [
        "class StreamListener(tweepy.StreamListener):\n",
        "    \"\"\"tweepy.StreamListener is a class provided by tweepy used to access\n",
        "    the Twitter Streaming API to collect tweets in real-time.\n",
        "    \"\"\"\n",
        "\n",
        "    def __init__(self, time_limit=60, file=\"\"):\n",
        "        \"\"\"class initialization\"\"\"\n",
        "        self.start_time = time.time()\n",
        "        self.limit = time_limit\n",
        "        self.result = []\n",
        "        self.f = file\n",
        "        super(StreamListener, self).__init__()\n",
        "\n",
        "    def on_data(self, data):\n",
        "        \"\"\"This is called when data are streamed in.\"\"\"\n",
        "        if (time.time() - self.start_time) < self.limit:\n",
        "            datajson = json.loads(data)\n",
        "            # print(datajson, \"\\n\")\n",
        "            if 'id' not in datajson.keys():\n",
        "                time.sleep(10)\n",
        "            else:\n",
        "                id = datajson['id']\n",
        "                username = datajson['user']['screen_name']\n",
        "                created_at = datajson['created_at']\n",
        "                text = datajson['text'].strip().replace(\"\\n\", \"\")\n",
        "\n",
        "                # process the geo-tags\n",
        "                if datajson['coordinates'] == None:\n",
        "                    try:\n",
        "                        bbox = datajson['place']['bounding_box']['coordinates'][0]\n",
        "                        lng = (bbox[0][0] + bbox[2][0]) / 2.0\n",
        "                        lat = (bbox[0][1] + bbox[1][1]) / 2.0\n",
        "                    except:\n",
        "                        lat = 0\n",
        "                        lng = 0\n",
        "                else:\n",
        "                    lng = datajson['coordinates']['coordinates'][0]\n",
        "                    lat = datajson['coordinates']['coordinates'][1]\n",
        "\n",
        "                if lat != 0:\n",
        "                    row = {\n",
        "                        'id': id,\n",
        "                        'username': username,\n",
        "                        'created_at': created_at,\n",
        "                        'lng': lng,\n",
        "                        'lat': lat,\n",
        "                        'text': text\n",
        "                    }\n",
        "                    print(row)\n",
        "                    self.result.append(row)\n",
        "                else:\n",
        "                    pass\n",
        "        else:\n",
        "            df = pd.DataFrame(self.result)\n",
        "            df.to_csv(self.f, index=False)\n",
        "            # download the csv to your local computer\n",
        "            files.download(self.f)\n",
        "            print(\"the csv has been downloaded to your local computer. The program has been completed successfully.\")\n",
        "            return False"
      ]
    },
    {
      "cell_type": "code",
      "execution_count": 5,
      "metadata": {
        "colab": {
          "base_uri": "https://localhost:8080/",
          "height": 1000
        },
        "id": "5Xzyo_OiwplG",
        "outputId": "170d1744-1579-4c79-8a88-288fd0cc851a"
      },
      "outputs": [
        {
          "name": "stdout",
          "output_type": "stream",
          "text": [
            "{'id': 1517610310495965184, 'username': 'sgtscream', 'created_at': 'Fri Apr 22 21:04:28 +0000 2022', 'lng': -122.3306025, 'lat': 47.614817, 'text': '@AstroDomina Directly above don seattle saw it from colmon dock https://t.co/uFgXN0TvRd'}\n",
            "{'id': 1517610379018350592, 'username': 'CantStandMAGAts', 'created_at': 'Fri Apr 22 21:04:44 +0000 2022', 'lng': -122.1660035, 'lat': 47.180856, 'text': 'This is very said news. Indeed, \"in the nearly two years since George Floyd’s murder, the US has made little progre… https://t.co/uoswUPrres'}\n",
            "{'id': 1517610456965255168, 'username': 'ProspectInsider', 'created_at': 'Fri Apr 22 21:05:03 +0000 2022', 'lng': -122.2327535, 'lat': 47.565392, 'text': '@TylerVlasak Their word is: trash'}\n",
            "{'id': 1517610523382059008, 'username': 'absurdhumanity', 'created_at': 'Fri Apr 22 21:05:19 +0000 2022', 'lng': -122.3306025, 'lat': 47.614817, 'text': 'Unconscionable that we still have 200 coal burning plants to produce electricity in America.'}\n",
            "{'id': 1517610525013602306, 'username': 'dbm422', 'created_at': 'Fri Apr 22 21:05:19 +0000 2022', 'lng': -122.5934165, 'lat': 47.325449500000005, 'text': '@ErnestoD819 @galleg000s @fromlos No joke man https://t.co/l2MwJc1fwX'}\n",
            "{'id': 1517610549512589312, 'username': 'ahnikalh', 'created_at': 'Fri Apr 22 21:05:25 +0000 2022', 'lng': -122.2800145, 'lat': 47.469552, 'text': '@The_Leo_Lea Gorgeous 💕😍'}\n",
            "{'id': 1517610581385089024, 'username': 'TimPNW98104', 'created_at': 'Fri Apr 22 21:05:33 +0000 2022', 'lng': -122.31344, 'lat': 47.385752499999995, 'text': \"@PattyMurray @POTUS Blah blah blah....blah blah, How about maintaining forests so that we don't have millions of acres burnt every year?\"}\n",
            "{'id': 1517610587714252800, 'username': 'AnnaDelAire', 'created_at': 'Fri Apr 22 21:05:34 +0000 2022', 'lng': -122.3306025, 'lat': 47.614817, 'text': '@Yiro469 Hello'}\n",
            "{'id': 1517610649848672256, 'username': 'talents_west', 'created_at': 'Fri Apr 22 21:05:49 +0000 2022', 'lng': -122.3306025, 'lat': 47.614817, 'text': 'Interested in waitressing? Talents West has immediate openings! Call 206-527-0250 from 11am-6pm M-F. #Seattle… https://t.co/8Xjsv6I5H3'}\n",
            "{'id': 1517610677258489856, 'username': 'bobco85', 'created_at': 'Fri Apr 22 21:05:55 +0000 2022', 'lng': -122.332679, 'lat': 47.609491, 'text': 'Enjoy the clouds dancing overhead for #EarthDay in this timelapse from my office building in downtown Seattle facin… https://t.co/IOBPYJEtF0'}\n",
            "{'id': 1517610685429026817, 'username': 'bobco85', 'created_at': 'Fri Apr 22 21:05:57 +0000 2022', 'lng': -122.332679, 'lat': 47.609491, 'text': '/2 here’s 2 grainy &amp; zoomed in pics of the POTUS motorcade from the timelapse https://t.co/9K4OTTxsnb'}\n",
            "{'id': 1517610706463432704, 'username': 'dwwbuzz', 'created_at': 'Fri Apr 22 21:06:02 +0000 2022', 'lng': -122.2180755, 'lat': 47.3923115, 'text': '@archillect @crrizzyy What is the name if this place and where is it? Peru…? David @dwwbuzz'}\n",
            "{'id': 1517610718199095297, 'username': 'seancworld', 'created_at': 'Fri Apr 22 21:06:05 +0000 2022', 'lng': -122.2800145, 'lat': 47.469552, 'text': 'Time to think big and build'}\n",
            "{'id': 1517610727699230721, 'username': 'lapham923', 'created_at': 'Fri Apr 22 21:06:07 +0000 2022', 'lng': -120.882482, 'lat': 47.273022, 'text': 'Just going from the judges actions,, I think the fix is in. 👀👇'}\n",
            "{'id': 1517610785865801728, 'username': 'LuciferRebourne', 'created_at': 'Fri Apr 22 21:06:21 +0000 2022', 'lng': -120.882482, 'lat': 47.273022, 'text': 'Crazy out ere bruv'}\n",
            "{'id': 1517610822305869825, 'username': 'tmj_sea_it', 'created_at': 'Fri Apr 22 21:06:30 +0000 2022', 'lng': -122.3356196, 'lat': 47.5802366, 'text': 'Starbucks is hiring in #Seattle, WA! Read about our latest #techjobs job opening via the link in our bio: Mgr, tech… https://t.co/IeW46ZEubs'}\n",
            "{'id': 1517610822930993153, 'username': 'PAWStweets', 'created_at': 'Fri Apr 22 21:06:30 +0000 2022', 'lng': -122.29135656, 'lat': 47.85957161, 'text': 'Just posted a photo @ PAWS - Progressive Animal Welfare Society https://t.co/srPlrTADxi'}\n",
            "{'id': 1517610870863409152, 'username': 'LuciferRebourne', 'created_at': 'Fri Apr 22 21:06:42 +0000 2022', 'lng': -120.882482, 'lat': 47.273022, 'text': 'Foreals https://t.co/01jvY0W6in'}\n",
            "{'id': 1517610953189208064, 'username': 'tmj_WA_facmgmt', 'created_at': 'Fri Apr 22 21:07:01 +0000 2022', 'lng': -122.6362492, 'lat': 47.5403732, 'text': \"Want to work at Valet Living? We're hiring in #PortOrchard, WA! Click for details: https://t.co/gSnJGTj6f2 #FacilitiesMgmt\"}\n",
            "{'id': 1517610957299601409, 'username': 'RudyWillingham', 'created_at': 'Fri Apr 22 21:07:02 +0000 2022', 'lng': -122.3306025, 'lat': 47.614817, 'text': '#HarryStyles at #Coachella .Thanks for having me @coachella ! Best party on the planet. @Harry_Styles @HSHQ https://t.co/c5WRcaMuLt'}\n",
            "{'id': 1517610972021596160, 'username': 'UllerRM', 'created_at': 'Fri Apr 22 21:07:06 +0000 2022', 'lng': -122.3306025, 'lat': 47.614817, 'text': '@_Badchop_ cataclysm from Vow might just replace it for me. improved clown cartridge on a rapid-fire frame is some patently stupid boss dps'}\n",
            "{'id': 1517610986403811329, 'username': 'TimPNW98104', 'created_at': 'Fri Apr 22 21:07:09 +0000 2022', 'lng': -122.2180755, 'lat': 47.3923115, 'text': 'Start with taking their private planes away. They will sing a different tune.'}\n",
            "{'id': 1517611023531794432, 'username': 'navhazard88', 'created_at': 'Fri Apr 22 21:07:18 +0000 2022', 'lng': -122.6557945, 'lat': 47.4939445, 'text': 'Billions in aid and weapons and all we got was this flag. 😬🤣💸💸💸'}\n",
            "{'id': 1517611073863663618, 'username': 'NathanielDWill2', 'created_at': 'Fri Apr 22 21:07:30 +0000 2022', 'lng': -122.4294405, 'lat': 47.139885, 'text': \"@HorizonUnion @GFuelEnergy I do @LumenSailor because they're a friend of mine.\"}\n",
            "{'id': 1517611074438148096, 'username': 'tmj_SEA_schn', 'created_at': 'Fri Apr 22 21:07:30 +0000 2022', 'lng': -122.2284532, 'lat': 47.3073228, 'text': 'Have you ever had a role like \"Warehouse Worker - 2nd Shift 20/HR - 1500 Sign-on\"? What did you like most about tha… https://t.co/1hbzkZ8lGK'}\n",
            "{'id': 1517611094180737024, 'username': 'pangolin_panda', 'created_at': 'Fri Apr 22 21:07:35 +0000 2022', 'lng': -122.29648850000001, 'lat': 47.442583, 'text': \"I love how up until 5 minutes ago Democrats were arguing that corporations weren't people and shouldn't have first… https://t.co/vKQYgjn5SI\"}\n",
            "{'id': 1517611109317963777, 'username': 'katjwinston', 'created_at': 'Fri Apr 22 21:07:38 +0000 2022', 'lng': -122.149768, 'lat': 47.5978565, 'text': '@LauraMonroe @InmanConnect See you in Vegas!!!'}\n",
            "{'id': 1517611121590431744, 'username': 'CantStandMAGAts', 'created_at': 'Fri Apr 22 21:07:41 +0000 2022', 'lng': -122.1660035, 'lat': 47.180856, 'text': 'These prosecutors did the right thing. Justice prevailed.'}\n",
            "{'id': 1517611136090132480, 'username': 'fredorashadd', 'created_at': 'Fri Apr 22 21:07:45 +0000 2022', 'lng': -122.3306025, 'lat': 47.614817, 'text': 'They just gotta fill up my tank'}\n",
            "{'id': 1517611256743571456, 'username': 'soleilbrille18', 'created_at': 'Fri Apr 22 21:08:14 +0000 2022', 'lng': -122.3306025, 'lat': 47.614817, 'text': 'If memory serves, Jared was registered in 2 states in ‘16, in one he was listed as Female.'}\n",
            "{'id': 1517611276909768705, 'username': 'AliBradleyTV', 'created_at': 'Fri Apr 22 21:08:18 +0000 2022', 'lng': -122.2740545, 'lat': 47.905972000000006, 'text': 'UA: Confirmed through US military officials— Satellite images show mass graves just outside of the besieged city of… https://t.co/NpQxVTkN5i'}\n",
            "{'id': 1517611324309528576, 'username': 'BarbaraHartnes5', 'created_at': 'Fri Apr 22 21:08:30 +0000 2022', 'lng': -120.882482, 'lat': 47.273022, 'text': '@RossKneeDeep Yes, children can learn better on a full stomach rather than being hungry.'}\n",
            "{'id': 1517611327363055616, 'username': 'tmj_WAT_NURSING', 'created_at': 'Fri Apr 22 21:08:30 +0000 2022', 'lng': -122.4442906, 'lat': 47.2528768, 'text': 'Washington Permanente Medical Group is hiring in Tacoma, WA! Read about our latest Nurse Practitioner (NP).Obstetri… https://t.co/lp6XQxUxQl'}\n",
            "{'id': 1517611346744934400, 'username': 'toni_thwd1', 'created_at': 'Fri Apr 22 21:08:35 +0000 2022', 'lng': -122.16076749999999, 'lat': 47.4506245, 'text': '@Power_Pole Nope😊'}\n",
            "{'id': 1517611417259626497, 'username': 'x0_niniii', 'created_at': 'Fri Apr 22 21:08:52 +0000 2022', 'lng': -120.882482, 'lat': 47.273022, 'text': 'I told one of my patients “have a good day” &amp; he responded with “no” lmao fine sir don’t 🙄😂.'}\n",
            "{'id': 1517611418886938624, 'username': 'Eisbar0306', 'created_at': 'Fri Apr 22 21:08:52 +0000 2022', 'lng': -122.3306025, 'lat': 47.614817, 'text': '@misuot7 @ddaengashleigh Jimin'}\n",
            "{'id': 1517611541884850176, 'username': 'toni_thwd1', 'created_at': 'Fri Apr 22 21:09:22 +0000 2022', 'lng': -122.16076749999999, 'lat': 47.4506245, 'text': '@stephenGary90 It looks so peaceful 😌.'}\n",
            "{'id': 1517611553738358784, 'username': 'FlyingFlockBy', 'created_at': 'Fri Apr 22 21:09:24 +0000 2022', 'lng': -122.302508, 'lat': 47.443589, 'text': \"First flying Duck by it's a shame there wasn't any Husky or Cougar products inn this store. 🦆 https://t.co/JGXBrrSbpU\"}\n",
            "{'id': 1517611560910213121, 'username': 'P_Trickie', 'created_at': 'Fri Apr 22 21:09:26 +0000 2022', 'lng': -122.506779, 'lat': 47.157103000000006, 'text': 'If you are coming to the Spring game stop by for a cold one. I’ll have a few extras on hand. 🍺 https://t.co/phAYBQRxty'}\n",
            "{'id': 1517611600181669893, 'username': 'ArronRenfrew', 'created_at': 'Fri Apr 22 21:09:36 +0000 2022', 'lng': -122.31717406, 'lat': 47.68323319, 'text': 'Take time to gain clarity and focus! @ Renfrew Real Estate https://t.co/3u8qMffQXq'}\n",
            "{'id': 1517611632859394048, 'username': 'garm_77', 'created_at': 'Fri Apr 22 21:09:43 +0000 2022', 'lng': -122.2317885, 'lat': 47.9599495, 'text': '@Moflo19 @RexChapman I always thought he was saying \"old fuzzy toupee\"...'}\n",
            "{'id': 1517611634210000896, 'username': 'annafoxylove', 'created_at': 'Fri Apr 22 21:09:44 +0000 2022', 'lng': -122.583, 'lat': 47.3275, 'text': 'Just posted a photo @ Gig Harbor, Washington https://t.co/ooKtHL49u3'}\n",
            "{'id': 1517611730716663808, 'username': 'AliBradleyTV', 'created_at': 'Fri Apr 22 21:10:07 +0000 2022', 'lng': -122.2317885, 'lat': 47.9599495, 'text': '…The satellite images from Maxar Technologies show four sections of linear rows— each section is approximately 85 m… https://t.co/uZHLBMZNa7'}\n",
            "{'id': 1517611733250052097, 'username': 'jpod206', 'created_at': 'Fri Apr 22 21:10:07 +0000 2022', 'lng': -122.3306025, 'lat': 47.614817, 'text': '@BillKristol @EliseStefanik I cant figure out who wins and loses in that one...'}\n",
            "{'id': 1517611739088494592, 'username': 'kerriawesome5', 'created_at': 'Fri Apr 22 21:10:09 +0000 2022', 'lng': -122.35777250000001, 'lat': 47.818622500000004, 'text': '@KyleJamesHoward @Twitter For sports, I love it.'}\n",
            "{'id': 1517611787700498432, 'username': 'tmj_WAT_intern', 'created_at': 'Fri Apr 22 21:10:20 +0000 2022', 'lng': -122.3126222, 'lat': 47.3223221, 'text': 'Nervous to apply for a job like \"Construction Intern\" at DMS - Doyon Management Services, LLC? Apply even if you\\'re… https://t.co/NnmILs8huU'}\n",
            "{'id': 1517611850753396736, 'username': 'JSHTRealEstate', 'created_at': 'Fri Apr 22 21:10:35 +0000 2022', 'lng': -122.334461, 'lat': 47.307568, 'text': 'I like to call this process of putting our SOLD sign up the #VictoryLap #JamesSmithHomeTeam #nipseyhussle https://t.co/QjiDIibQt5'}\n",
            "{'id': 1517611887336194048, 'username': 'DaGr8Brendinni', 'created_at': 'Fri Apr 22 21:10:44 +0000 2022', 'lng': -120.882482, 'lat': 47.273022, 'text': '@StewarrMark Epicness 😍'}\n",
            "{'id': 1517611951257358336, 'username': 'pjg321', 'created_at': 'Fri Apr 22 21:10:59 +0000 2022', 'lng': -122.16452749999999, 'lat': 48.088757, 'text': 'Tragedy for #FloridaWhy would #governorBe so hostileTo major source of jobs&amp; tax revenue?A bully flexing his… https://t.co/VSOrC9dReH'}\n",
            "{'id': 1517611969154469888, 'username': 'LuciferRebourne', 'created_at': 'Fri Apr 22 21:11:03 +0000 2022', 'lng': -120.882482, 'lat': 47.273022, 'text': 'That dev error is starting to piss me the fuck off'}\n",
            "{'id': 1517611985394827264, 'username': 'annafoxylove', 'created_at': 'Fri Apr 22 21:11:07 +0000 2022', 'lng': -122.583, 'lat': 47.3275, 'text': 'Just posted a photo @ Gig Harbor, Washington https://t.co/73XctnwUZM'}\n",
            "{'id': 1517612013698129920, 'username': 'dreamgurl868', 'created_at': 'Fri Apr 22 21:11:14 +0000 2022', 'lng': -122.36205507, 'lat': 47.77884276, 'text': 'Just posted a photo @ SplashDog https://t.co/XjSQI1Ui30'}\n",
            "{'id': 1517612019217698817, 'username': 'devilstumor', 'created_at': 'Fri Apr 22 21:11:15 +0000 2022', 'lng': -122.3306025, 'lat': 47.614817, 'text': 'Me this week https://t.co/X0offIVocS'}\n",
            "{'id': 1517612130043801601, 'username': 'Emilystaker', 'created_at': 'Fri Apr 22 21:11:42 +0000 2022', 'lng': -120.882482, 'lat': 47.273022, 'text': 'Thank you for having me @49ersfangirl   You’ve created a wonderful resource for young women and I am grateful to ha… https://t.co/rFwgvZwb7K'}\n",
            "{'id': 1517612190580109312, 'username': 'toni_thwd1', 'created_at': 'Fri Apr 22 21:11:56 +0000 2022', 'lng': -122.16076749999999, 'lat': 47.4506245, 'text': '@HingganLeague Thank heaven those wonderful people helped to save this magnificent whale 🐋🙏❤.'}\n",
            "{'id': 1517612320100298752, 'username': 'annafoxylove', 'created_at': 'Fri Apr 22 21:12:27 +0000 2022', 'lng': -122.583, 'lat': 47.3275, 'text': 'Just posted a photo @ Gig Harbor, Washington https://t.co/kbhpJGM03A'}\n",
            "{'id': 1517612323795464192, 'username': 'DaGr8Brendinni', 'created_at': 'Fri Apr 22 21:12:28 +0000 2022', 'lng': -120.882482, 'lat': 47.273022, 'text': \"@sigmas Aren't you two adorable. https://t.co/wKvkFOSDBe\"}\n",
            "{'id': 1517612323527045120, 'username': 'dbm422', 'created_at': 'Fri Apr 22 21:12:28 +0000 2022', 'lng': -122.5934165, 'lat': 47.325449500000005, 'text': 'Oyster shooter anyone https://t.co/lLKYXSFqRy'}\n",
            "{'id': 1517612372281618432, 'username': 'ONLY1WIZER', 'created_at': 'Fri Apr 22 21:12:40 +0000 2022', 'lng': -122.3306025, 'lat': 47.614817, 'text': 'All complete! Much better.'}\n",
            "{'id': 1517612388207448066, 'username': 'oiselle_sally', 'created_at': 'Fri Apr 22 21:12:43 +0000 2022', 'lng': -120.882482, 'lat': 47.273022, 'text': '…and the captain just came on to say that we can’t land, and we’ll be in a holding pattern for awhile, because… https://t.co/ZKN0JL6lUm'}\n",
            "{'id': 1517612426266431488, 'username': 'garm_77', 'created_at': 'Fri Apr 22 21:12:52 +0000 2022', 'lng': -122.2317885, 'lat': 47.9599495, 'text': '@raincoatworms My personal fav.'}\n",
            "{'id': 1517612428074225664, 'username': 'Seasherm', 'created_at': 'Fri Apr 22 21:12:53 +0000 2022', 'lng': -122.3306025, 'lat': 47.614817, 'text': '@RonFilipkowski Maybe he means Disney is going to move there.'}\n",
            "{'id': 1517612435040915456, 'username': 'fredorashadd', 'created_at': 'Fri Apr 22 21:12:55 +0000 2022', 'lng': -122.3306025, 'lat': 47.614817, 'text': 'This isn’t a tank but I get it'}\n",
            "{'id': 1517612486115008513, 'username': 'devilstumor', 'created_at': 'Fri Apr 22 21:13:07 +0000 2022', 'lng': -122.3306025, 'lat': 47.614817, 'text': 'LOL I have chafing on the sides of my head from wearing headphones for so long Kms'}\n",
            "{'id': 1517612506784567296, 'username': 'P_Trickie', 'created_at': 'Fri Apr 22 21:13:12 +0000 2022', 'lng': -122.506779, 'lat': 47.157103000000006, 'text': '@godux1987 @goducksgirl @whatthekel @emilyetaylor23 @TheRealDidiU @SportsChat503 @kwldragon0229 @KarlaGrandahl… https://t.co/xDsz9Wu4sV'}\n",
            "{'id': 1517612534060134400, 'username': 'DruidoftheSpore', 'created_at': 'Fri Apr 22 21:13:18 +0000 2022', 'lng': -120.882482, 'lat': 47.273022, 'text': 'Why watch Brian Fartsters stream when you can chill and watch me draw CR characters.#CriticalRole… https://t.co/bCcNeADkdr'}\n",
            "{'id': 1517612540926201856, 'username': 'DaGr8Brendinni', 'created_at': 'Fri Apr 22 21:13:20 +0000 2022', 'lng': -120.882482, 'lat': 47.273022, 'text': '@jengrand8 Stunning!! Wowza🌞🌎🎉'}\n",
            "{'id': 1517612544185147392, 'username': 'lapham923', 'created_at': 'Fri Apr 22 21:13:21 +0000 2022', 'lng': -120.882482, 'lat': 47.273022, 'text': \"@davidmweissman @DianaPOMoon Agreed,, what concerns me is, noting the judge's actions while listening to arguments,… https://t.co/AlG7a1Ehcp\"}\n",
            "{'id': 1517612565165002752, 'username': 'toni_thwd1', 'created_at': 'Fri Apr 22 21:13:26 +0000 2022', 'lng': -122.16076749999999, 'lat': 47.4506245, 'text': \"@frieda_lessar He doesn't know how to tell the truth, like most of the GQP.😤🤬\"}\n",
            "{'id': 1517612566490402817, 'username': 'AcabJackson', 'created_at': 'Fri Apr 22 21:13:26 +0000 2022', 'lng': -122.3306025, 'lat': 47.614817, 'text': 'Now that things are unionizing, I think I wanna train to be a barista now?'}\n",
            "{'id': 1517612573104898048, 'username': 'ForksFlash', 'created_at': 'Fri Apr 22 21:13:27 +0000 2022', 'lng': -122.455344, 'lat': 47.242960499999995, 'text': 'A random bit of luck during a photo shoot when a family brought bubble blower toys to the tulip fields. It brought… https://t.co/x8QjgNLCcb'}\n",
            "{'id': 1517612591605903360, 'username': 'tmj_wa_eng', 'created_at': 'Fri Apr 22 21:13:32 +0000 2022', 'lng': -122.3320708, 'lat': 47.6062095, 'text': 'Interested in a job in Seattle, WA? This could be a great fit. Click the link in our bio to apply: Senior Mechanica… https://t.co/HthXz8oSM8'}\n",
            "{'id': 1517612639035314178, 'username': 'cheer_earn', 'created_at': 'Fri Apr 22 21:13:43 +0000 2022', 'lng': -96.3073065, 'lat': 65.8381145, 'text': 'May 2022!First collection – 1600 NFT-cards Only 50% of them will remain in the game Details… https://t.co/XS4mWLyOay'}\n",
            "{'id': 1517612712599035904, 'username': 'AbelTek206', 'created_at': 'Fri Apr 22 21:14:01 +0000 2022', 'lng': -122.342145, 'lat': 47.6096755, 'text': '@POTUS you called the war in Ukraine a genocide after just 49 days. Tigrayans have been crying for over 500+ days(1… https://t.co/uKJwpSYiHB'}\n",
            "{'id': 1517612755204796417, 'username': 'toni_thwd1', 'created_at': 'Fri Apr 22 21:14:11 +0000 2022', 'lng': -122.16076749999999, 'lat': 47.4506245, 'text': '@laddi_kaur Same to you pretty lady. 😊'}\n"
          ]
        },
        {
          "data": {
            "application/javascript": "\n    async function download(id, filename, size) {\n      if (!google.colab.kernel.accessAllowed) {\n        return;\n      }\n      const div = document.createElement('div');\n      const label = document.createElement('label');\n      label.textContent = `Downloading \"${filename}\": `;\n      div.appendChild(label);\n      const progress = document.createElement('progress');\n      progress.max = size;\n      div.appendChild(progress);\n      document.body.appendChild(div);\n\n      const buffers = [];\n      let downloaded = 0;\n\n      const channel = await google.colab.kernel.comms.open(id);\n      // Send a message to notify the kernel that we're ready.\n      channel.send({})\n\n      for await (const message of channel.messages) {\n        // Send a message to notify the kernel that we're ready.\n        channel.send({})\n        if (message.buffers) {\n          for (const buffer of message.buffers) {\n            buffers.push(buffer);\n            downloaded += buffer.byteLength;\n            progress.value = downloaded;\n          }\n        }\n      }\n      const blob = new Blob(buffers, {type: 'application/binary'});\n      const a = document.createElement('a');\n      a.href = window.URL.createObjectURL(blob);\n      a.download = filename;\n      div.appendChild(a);\n      a.click();\n      div.remove();\n    }\n  ",
            "text/plain": [
              "<IPython.core.display.Javascript object>"
            ]
          },
          "metadata": {},
          "output_type": "display_data"
        },
        {
          "data": {
            "application/javascript": "download(\"download_51d5d758-46c0-4054-a3e8-ac5beb261988\", \"geotweets_seattle.csv\", 13259)",
            "text/plain": [
              "<IPython.core.display.Javascript object>"
            ]
          },
          "metadata": {},
          "output_type": "display_data"
        },
        {
          "name": "stdout",
          "output_type": "stream",
          "text": [
            "the csv has been downloaded to your local computer. The program has been completed successfully.\n"
          ]
        }
      ],
      "source": [
        "if __name__ == \"__main__\":\n",
        "    # These are provided to you through the Twitter API after you create a account\n",
        "    # register a Twitter App to get the keys and access tokens.\n",
        "    output_file = '/gdrive/My Drive/geotweets/geotweets_seattle.csv'\n",
        "\n",
        "    # Apply for your own Twitter API keys at https://developer.twitter.com/en/apply-for-access\n",
        "    consumer_key = \"\"\n",
        "    consumer_secret = \"\"\n",
        "    access_token = \"\"\n",
        "    access_token_secret = \"\"\n",
        "\n",
        "    myauth = tweepy.OAuthHandler(consumer_key, consumer_secret)\n",
        "    myauth.set_access_token(access_token, access_token_secret)\n",
        "\n",
        "    # LOCATIONS are the longitude, latitude coordinate corners for a box that restricts the\n",
        "    # geographic area from which you will stream tweets. The first two define the southwest\n",
        "    # corner of the box and the second two define the northeast corner of the box.\n",
        "    LOCATIONS = [-122.76112787054943, 47.03031862092668, -122.0045177892454, 48.09649772263136] #Seattle\n",
        "\n",
        "    stream_listener = StreamListener(time_limit=600, file=output_file)\n",
        "    stream = tweepy.Stream(auth=myauth, listener=stream_listener)\n",
        "    stream.filter(locations=LOCATIONS, languages=['en'], encoding=\"utf-8\")"
      ]
    }
  ],
  "metadata": {
    "colab": {
      "collapsed_sections": [],
      "name": "Copy of Copy of 02_geosearch.ipynb",
      "provenance": []
    },
    "kernelspec": {
      "display_name": "Python 3",
      "language": "python",
      "name": "python3"
    },
    "language_info": {
      "codemirror_mode": {
        "name": "ipython",
        "version": 3
      },
      "file_extension": ".py",
      "mimetype": "text/x-python",
      "name": "python",
      "nbconvert_exporter": "python",
      "pygments_lexer": "ipython3",
      "version": "3.7.4"
    }
  },
  "nbformat": 4,
  "nbformat_minor": 0
}
